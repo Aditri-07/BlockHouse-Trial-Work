{
  "nbformat": 4,
  "nbformat_minor": 0,
  "metadata": {
    "colab": {
      "provenance": [],
      "authorship_tag": "ABX9TyNy77pig35W/8c6BqTWW/tD"
    },
    "kernelspec": {
      "name": "python3",
      "display_name": "Python 3"
    },
    "language_info": {
      "name": "python"
    }
  },
  "cells": [
    {
      "cell_type": "code",
      "execution_count": 2,
      "metadata": {
        "colab": {
          "base_uri": "https://localhost:8080/"
        },
        "id": "HzZGGGWP0pVv",
        "outputId": "8e2d5cf9-f13a-45d3-f85c-2adb8abec404"
      },
      "outputs": [
        {
          "output_type": "stream",
          "name": "stdout",
          "text": [
            "Cloning into 'Optimal-Portfolio-Transactions'...\n",
            "remote: Enumerating objects: 35, done.\u001b[K\n",
            "remote: Counting objects:   2% (1/35)\u001b[K\rremote: Counting objects:   5% (2/35)\u001b[K\rremote: Counting objects:   8% (3/35)\u001b[K\rremote: Counting objects:  11% (4/35)\u001b[K\rremote: Counting objects:  14% (5/35)\u001b[K\rremote: Counting objects:  17% (6/35)\u001b[K\rremote: Counting objects:  20% (7/35)\u001b[K\rremote: Counting objects:  22% (8/35)\u001b[K\rremote: Counting objects:  25% (9/35)\u001b[K\rremote: Counting objects:  28% (10/35)\u001b[K\rremote: Counting objects:  31% (11/35)\u001b[K\rremote: Counting objects:  34% (12/35)\u001b[K\rremote: Counting objects:  37% (13/35)\u001b[K\rremote: Counting objects:  40% (14/35)\u001b[K\rremote: Counting objects:  42% (15/35)\u001b[K\rremote: Counting objects:  45% (16/35)\u001b[K\rremote: Counting objects:  48% (17/35)\u001b[K\rremote: Counting objects:  51% (18/35)\u001b[K\rremote: Counting objects:  54% (19/35)\u001b[K\rremote: Counting objects:  57% (20/35)\u001b[K\rremote: Counting objects:  60% (21/35)\u001b[K\rremote: Counting objects:  62% (22/35)\u001b[K\rremote: Counting objects:  65% (23/35)\u001b[K\rremote: Counting objects:  68% (24/35)\u001b[K\rremote: Counting objects:  71% (25/35)\u001b[K\rremote: Counting objects:  74% (26/35)\u001b[K\rremote: Counting objects:  77% (27/35)\u001b[K\rremote: Counting objects:  80% (28/35)\u001b[K\rremote: Counting objects:  82% (29/35)\u001b[K\rremote: Counting objects:  85% (30/35)\u001b[K\rremote: Counting objects:  88% (31/35)\u001b[K\rremote: Counting objects:  91% (32/35)\u001b[K\rremote: Counting objects:  94% (33/35)\u001b[K\rremote: Counting objects:  97% (34/35)\u001b[K\rremote: Counting objects: 100% (35/35)\u001b[K\rremote: Counting objects: 100% (35/35), done.\u001b[K\n",
            "remote: Compressing objects: 100% (34/34), done.\u001b[K\n",
            "remote: Total 35 (delta 9), reused 0 (delta 0), pack-reused 0\u001b[K\n",
            "Receiving objects: 100% (35/35), 763.47 KiB | 7.56 MiB/s, done.\n",
            "Resolving deltas: 100% (9/9), done.\n"
          ]
        }
      ],
      "source": [
        "!git clone https://github.com/viai957/Optimal-Portfolio-Transactions.git"
      ]
    },
    {
      "cell_type": "code",
      "source": [
        "%cd Optimal-Portfolio-Transactions\n",
        "from ddpg_agent import Agent"
      ],
      "metadata": {
        "colab": {
          "base_uri": "https://localhost:8080/"
        },
        "id": "al7mR3D30yPA",
        "outputId": "66538a3c-0c05-44fd-bf19-594ad7aabc3a"
      },
      "execution_count": 3,
      "outputs": [
        {
          "output_type": "stream",
          "name": "stdout",
          "text": [
            "/content/Optimal-Portfolio-Transactions\n"
          ]
        }
      ]
    },
    {
      "cell_type": "code",
      "source": [
        "import numpy as np\n",
        "import torch\n",
        "from collections import deque #datastructure that lets you add and remove item from both ends\n",
        "# Create simulation environment\n",
        "import syntheticChrissAlmgren as sca\n",
        "env = sca.MarketEnvironment() #initialize the market environment\n",
        "\n",
        "# Initialize DDPG agent with actor and critic networks\n",
        "agent = Agent(state_size=env.observation_space_dimension(), action_size=env.action_space_dimension(), random_seed=0)\n",
        "# agent learns to make trading decisions\n",
        "\n",
        "# Set parameters for the simulation\n",
        "lqt = 60  # Liquidation time\n",
        "n_trades = 60  # Number of trades\n",
        "tr = 1e-6  # Trader's risk aversion\n",
        "episodes = 3000 # Number of episodes to train\n",
        "\n",
        "shortfall_hist = np.array([]) #record the final shortfall for all episodes\n",
        "shortfall_deque = deque(maxlen=100) #record the last 100 episodes' shortfall\n",
        "\n",
        "for episode in range(episodes): #loop through the training episodes\n",
        "    cur_state = env.reset(seed=episode, liquid_time=lqt, num_trades=n_trades, lamb=tr) #reset the environment for the new episode\n",
        "    env.start_transactions() #start the simulation\n",
        "\n",
        "    for i in range(n_trades + 1): #loop through the trade within an episode\n",
        "        # Action Prediction: The agent predicts the optimal trade amount based on the current state\n",
        "        action = agent.act(cur_state, add_noise=True) #amt of stock to trade\n",
        "\n",
        "        # Execytion and feedback - Perform the action and receive the new state, reward(minimize the implementation shortfall), and additional information\n",
        "        new_state, reward, done, info = env.step(action) #execute the trade\n",
        "\n",
        "        # Learning - The agent updates its networks (actor and critic) using the experiences collected in the replay buffer\n",
        "        agent.step(cur_state, action, reward, new_state, done) #agent learns from the outcome of the trade\n",
        "\n",
        "        #Shortfall Calculation - The implementation shortfall is calculated at the end of each episode, and the goal is to minimize this metric across episodes\n",
        "\n",
        "        # Move to the next state\n",
        "        cur_state = new_state #update the current state\n",
        "\n",
        "        if info.done: #to check if the episode is finished\n",
        "            shortfall_hist = np.append(shortfall_hist, info.implementation_shortfall) #recod the final shortfall for one epi\n",
        "            shortfall_deque.append(info.implementation_shortfall) #add the shortfall to recent history\n",
        "            break #move to the next epi\n",
        "\n",
        "    if (episode + 1) % 100 == 0:  # Print average shortfall over last 100 episodes\n",
        "        print(f'Episode [{episode + 1}/{episodes}]\\tAverage Shortfall: ${np.mean(shortfall_deque):,.2f}')\n",
        "\n",
        "print(f'\\nAverage Implementation Shortfall: ${np.mean(shortfall_hist):,.2f} \\n')\n",
        "#print overall average shortfall"
      ],
      "metadata": {
        "colab": {
          "base_uri": "https://localhost:8080/"
        },
        "id": "vCrCO90r1ciT",
        "outputId": "6a4711e6-d923-4bc4-d241-1d17d5d1463d"
      },
      "execution_count": 8,
      "outputs": [
        {
          "output_type": "stream",
          "name": "stdout",
          "text": [
            "Episode [100/3000]\tAverage Shortfall: $2,276,855.50\n",
            "Episode [200/3000]\tAverage Shortfall: $2,562,256.53\n",
            "Episode [300/3000]\tAverage Shortfall: $2,562,500.00\n",
            "Episode [400/3000]\tAverage Shortfall: $2,562,500.00\n",
            "Episode [500/3000]\tAverage Shortfall: $2,562,500.00\n",
            "Episode [600/3000]\tAverage Shortfall: $2,562,500.00\n",
            "Episode [700/3000]\tAverage Shortfall: $2,562,500.00\n",
            "Episode [800/3000]\tAverage Shortfall: $2,562,500.00\n",
            "Episode [900/3000]\tAverage Shortfall: $2,562,500.00\n",
            "Episode [1000/3000]\tAverage Shortfall: $2,562,500.00\n",
            "Episode [1100/3000]\tAverage Shortfall: $2,562,500.00\n",
            "Episode [1200/3000]\tAverage Shortfall: $2,562,500.00\n",
            "Episode [1300/3000]\tAverage Shortfall: $2,562,500.00\n",
            "Episode [1400/3000]\tAverage Shortfall: $2,562,500.00\n",
            "Episode [1500/3000]\tAverage Shortfall: $2,562,500.00\n",
            "Episode [1600/3000]\tAverage Shortfall: $2,562,500.00\n",
            "Episode [1700/3000]\tAverage Shortfall: $2,562,500.00\n",
            "Episode [1800/3000]\tAverage Shortfall: $2,562,500.00\n",
            "Episode [1900/3000]\tAverage Shortfall: $2,562,500.00\n",
            "Episode [2000/3000]\tAverage Shortfall: $2,562,500.00\n",
            "Episode [2100/3000]\tAverage Shortfall: $2,305,734.44\n",
            "Episode [2200/3000]\tAverage Shortfall: $749,346.46\n",
            "Episode [2300/3000]\tAverage Shortfall: $665,530.54\n",
            "Episode [2400/3000]\tAverage Shortfall: $666,817.76\n",
            "Episode [2500/3000]\tAverage Shortfall: $593,735.64\n",
            "Episode [2600/3000]\tAverage Shortfall: $716,274.38\n",
            "Episode [2700/3000]\tAverage Shortfall: $655,907.28\n",
            "Episode [2800/3000]\tAverage Shortfall: $656,101.01\n",
            "Episode [2900/3000]\tAverage Shortfall: $662,152.44\n",
            "Episode [3000/3000]\tAverage Shortfall: $669,322.14\n",
            "\n",
            "Average Implementation Shortfall: $1,976,834.47 \n",
            "\n"
          ]
        }
      ]
    },
    {
      "cell_type": "code",
      "source": [],
      "metadata": {
        "id": "S7XrWmzk1nSw"
      },
      "execution_count": null,
      "outputs": []
    }
  ]
}